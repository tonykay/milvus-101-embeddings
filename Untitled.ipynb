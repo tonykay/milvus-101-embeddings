{
 "cells": [
  {
   "cell_type": "markdown",
   "id": "af1bbe6d-a8d9-4ea8-b750-02b71edee247",
   "metadata": {},
   "source": [
    "# Sha\n",
    "\n",
    "Directions:\n",
    "\n",
    "pip install jupyter jupyterlab-vim jupyterlab_pygments jupyter-lsp-python\n",
    "\n",
    "You can remove `jupyterlab-vim`!"
   ]
  },
  {
   "cell_type": "code",
   "execution_count": null,
   "id": "593af088-591a-4fd5-9c28-f9ef83f72994",
   "metadata": {},
   "outputs": [],
   "source": [
    "import langchain_community.chat_models\n",
    "from langchain_community import chat_models"
   ]
  }
 ],
 "metadata": {
  "kernelspec": {
   "display_name": "Python 3 (ipykernel)",
   "language": "python",
   "name": "python3"
  },
  "language_info": {
   "codemirror_mode": {
    "name": "ipython",
    "version": 3
   },
   "file_extension": ".py",
   "mimetype": "text/x-python",
   "name": "python",
   "nbconvert_exporter": "python",
   "pygments_lexer": "ipython3",
   "version": "3.11.8"
  }
 },
 "nbformat": 4,
 "nbformat_minor": 5
}
